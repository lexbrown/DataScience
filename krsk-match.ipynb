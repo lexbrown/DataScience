{
 "cells": [
  {
   "cell_type": "code",
   "execution_count": 90,
   "metadata": {},
   "outputs": [],
   "source": [
    "import pandas as pd\n",
    "import numpy as np\n",
    "import matplotlib.pyplot as plt\n",
    "import geopandas as gpd\n",
    "import json\n",
    "from shapely.geometry import Polygon, Point\n",
    "%matplotlib inline\n",
    "from shapely.ops import cascaded_union\n",
    "from geopandas import GeoSeries #вообще нахер не нужный мусор, засоряющий память\n",
    "import pyproj # для конвертации координат в плоскость, хотя тут нужно уточнить\n",
    "import math #эта шляпа нужна для синусов / косинусов и углов\n",
    "import descartes #хз зачем это\n",
    "from pylab import cm #это ещё чт за говно"
   ]
  },
  {
   "cell_type": "markdown",
   "metadata": {},
   "source": [
    "# Создание сетки"
   ]
  },
  {
   "cell_type": "markdown",
   "metadata": {},
   "source": [
    "Здесь куча джигурды-пояснений"
   ]
  },
  {
   "cell_type": "markdown",
   "metadata": {},
   "source": [
    "#### Типа задаем параметры"
   ]
  },
  {
   "cell_type": "code",
   "execution_count": 91,
   "metadata": {},
   "outputs": [],
   "source": [
    "# Директория с данными сетки\n",
    "grid_data_dir = 'BatyaGritMalatsa/'\n",
    "\n",
    "# Имя полигона города, который хранится в \n",
    "city_polygon = 'batyas_place2.geojson'\n",
    "\n",
    "# Задаем длину квадрата\n",
    "width = 500"
   ]
  },
  {
   "cell_type": "markdown",
   "metadata": {},
   "source": [
    "# Собсна загружаем полигон"
   ]
  },
  {
   "cell_type": "code",
   "execution_count": 92,
   "metadata": {},
   "outputs": [],
   "source": [
    "#Здесь в работу вступает модуль pyproj.Proj и я ес чесн хз что он делает\n",
    "# wgs84 -- 3D sphere model of Earth, читал про неё на днях. Типа это стандарт, по которому работает GPS\n",
    "wgs84 = pyproj.Proj(\"+init=EPSG:4326\") # LatLon with WGS84 datum used by GPS units and Google Earth -- хорошо, а как насчёт яндекса?\n",
    "pm = pyproj.Proj(\"+init=EPSG:32646\") # Для КРСКа выбираем спец UTM зону - хмммммммм"
   ]
  },
  {
   "cell_type": "code",
   "execution_count": 93,
   "metadata": {},
   "outputs": [],
   "source": [
    "#ну грузим полигон, чо\n",
    "with open(grid_data_dir + city_polygon, encoding = 'utf-8') as k:\n",
    "    krsk_file = json.load(k) #выглядит как словарь"
   ]
  },
  {
   "cell_type": "code",
   "execution_count": 94,
   "metadata": {},
   "outputs": [
    {
     "data": {
      "text/plain": [
       "{'type': 'FeatureCollection',\n",
       " 'metadata': {'name': 'Без названия', 'creator': 'Yandex Map Constructor'},\n",
       " 'features': [{'type': 'Feature',\n",
       "   'id': 0,\n",
       "   'geometry': {'type': 'Polygon',\n",
       "    'coordinates': [[[92.818280420654, 55.99686289191914],\n",
       "      [92.85398598706024, 56.006097172116775],\n",
       "      [92.8993045905759, 56.012636779988604],\n",
       "      [92.90205117260714, 56.02417455285036],\n",
       "      [92.92539711987278, 56.03071108773877],\n",
       "      [92.9343235114743, 56.03801531162784],\n",
       "      [92.97346230541963, 56.04454949328903],\n",
       "      [92.9947483161618, 56.054156565597694],\n",
       "      [93.00642128979462, 56.0733635029933],\n",
       "      [92.9370700935056, 56.08948990571171],\n",
       "      [92.78600808178685, 56.04224343840255],\n",
       "      [92.818280420654, 55.99686289191914]]]},\n",
       "   'properties': {'description': 'Левый берег',\n",
       "    'fill': '#ed4543',\n",
       "    'fill-opacity': 0.6,\n",
       "    'stroke': '#ed4543',\n",
       "    'stroke-width': '5',\n",
       "    'stroke-opacity': 0.9}},\n",
       "  {'type': 'Feature',\n",
       "   'id': 1,\n",
       "   'geometry': {'type': 'Polygon',\n",
       "    'coordinates': [[[92.84780617748997, 55.99046909081349],\n",
       "      [92.75008685210385, 55.97464665628189],\n",
       "      [92.77480609038511, 55.94999685841174],\n",
       "      [92.88535601714291, 55.911835637737056],\n",
       "      [93.16846962963837, 55.971605755033465],\n",
       "      [93.11971779858368, 56.046235059278075],\n",
       "      [93.08538552319305, 56.073127627556495],\n",
       "      [93.0586063483884, 56.07773589117427],\n",
       "      [93.01603432690403, 56.064293575463765],\n",
       "      [93.005047998779, 56.04392910556142],\n",
       "      [93.01328774487278, 56.03201280637425],\n",
       "      [93.0029880622556, 56.0220156416053],\n",
       "      [92.97620888745087, 56.0220156416053],\n",
       "      [92.9116642097165, 56.0023982667559],\n",
       "      [92.873212061279, 55.988159790986764],\n",
       "      [92.84780617748997, 55.99046909081349]]]},\n",
       "   'properties': {'description': 'Антагонист левого - правый берег',\n",
       "    'fill': '#ed4543',\n",
       "    'fill-opacity': 0.6,\n",
       "    'stroke': '#ed4543',\n",
       "    'stroke-width': '5',\n",
       "    'stroke-opacity': 0.9}},\n",
       "  {'type': 'Feature',\n",
       "   'id': 2,\n",
       "   'geometry': {'type': 'Polygon',\n",
       "    'coordinates': [[[92.9040671072308, 56.01187466974887],\n",
       "      [92.92878634551201, 56.0132209482857],\n",
       "      [92.94972903350029, 56.02302812693292],\n",
       "      [92.96929843047295, 56.03225612832006],\n",
       "      [92.98062808135188, 56.03302502845476],\n",
       "      [92.9974508962933, 56.042250630412674],\n",
       "      [92.99298770049248, 56.046093977612365],\n",
       "      [92.98612124541437, 56.046862600917805],\n",
       "      [92.97376162627377, 56.04244280690365],\n",
       "      [92.94251925566829, 56.0362926824365],\n",
       "      [92.93256289580498, 56.0289881311507],\n",
       "      [92.90921694853934, 56.02091306463708],\n",
       "      [92.9040671072308, 56.01187466974887]]]},\n",
       "   'properties': {'description': 'Остров-братуха',\n",
       "    'fill': '#ed4543',\n",
       "    'fill-opacity': 0.6,\n",
       "    'stroke': '#ed4543',\n",
       "    'stroke-width': '5',\n",
       "    'stroke-opacity': 0.9}}]}"
      ]
     },
     "execution_count": 94,
     "metadata": {},
     "output_type": "execute_result"
    }
   ],
   "source": [
    "krsk_file"
   ]
  },
  {
   "cell_type": "code",
   "execution_count": 95,
   "metadata": {},
   "outputs": [
    {
     "data": {
      "text/plain": [
       "3"
      ]
     },
     "execution_count": 95,
     "metadata": {},
     "output_type": "execute_result"
    }
   ],
   "source": [
    "len(krsk_file['features'])"
   ]
  },
  {
   "cell_type": "code",
   "execution_count": 96,
   "metadata": {},
   "outputs": [
    {
     "data": {
      "text/plain": [
       "[[92.818280420654, 55.99686289191914],\n",
       " [92.85398598706024, 56.006097172116775],\n",
       " [92.8993045905759, 56.012636779988604],\n",
       " [92.90205117260714, 56.02417455285036],\n",
       " [92.92539711987278, 56.03071108773877],\n",
       " [92.9343235114743, 56.03801531162784],\n",
       " [92.97346230541963, 56.04454949328903],\n",
       " [92.9947483161618, 56.054156565597694],\n",
       " [93.00642128979462, 56.0733635029933],\n",
       " [92.9370700935056, 56.08948990571171],\n",
       " [92.78600808178685, 56.04224343840255],\n",
       " [92.818280420654, 55.99686289191914]]"
      ]
     },
     "execution_count": 96,
     "metadata": {},
     "output_type": "execute_result"
    }
   ],
   "source": [
    "krsk_file['features'][0]['geometry']['coordinates'][0]"
   ]
  },
  {
   "cell_type": "code",
   "execution_count": 97,
   "metadata": {},
   "outputs": [],
   "source": [
    "#Дальше идёт объединение полигонов, но надо ли мне их объединять? Сделаем это по приколу\n",
    "#####Дальше конвертация из объемных в плоские координаты\n",
    "gathering_into_union = []\n",
    "for part in range(len(krsk_file['features'])):\n",
    "    # Грузим все части Красноярска, хотя там всего одна ЛОЛ... Ну в первоначальном... Теперь вот три\n",
    "    krsk_part = krsk_file['features'][part]['geometry']['coordinates'][0] #докапываемся до координат полигона\n",
    "    # Transform to 2d coords and make polygons\n",
    "    # x for lon and y for lat\n",
    "    krsk_part_coords = []\n",
    "    for i in range(len(krsk_part)):\n",
    "        ####### input in format (lon, lat) - ну это и так понятно\n",
    "        x, y = pyproj.transform(wgs84, pm, krsk_part[i][0], krsk_part[i][1]) #трансформируем гео координаты в x и y\n",
    "        krsk_part_coords.append([x,y]) #добавляем\n",
    "    krsk_part_polygon = Polygon(krsk_part_coords) #в игру вступает модуль shapely.geometry\n",
    "    gathering_into_union.append(krsk_part_polygon) #таким образом получаем лист полигонов... Вроде как даже захешированных\n",
    "# Собираем все части Красноярска в один полигон... а зачем?\n",
    "krsk = cascaded_union(gathering_into_union) #из нескольких полигонов в листе собирается 1, функция берется из shapely.ops\n",
    "\n",
    "#Сейчас данные сконвертированы из объемных координат в плоские"
   ]
  },
  {
   "cell_type": "code",
   "execution_count": 98,
   "metadata": {},
   "outputs": [
    {
     "data": {
      "text/plain": [
       "shapely.geometry.multipolygon.MultiPolygon"
      ]
     },
     "execution_count": 98,
     "metadata": {},
     "output_type": "execute_result"
    }
   ],
   "source": [
    "#чтоб не забывал, что такое krsk\n",
    "type(krsk)"
   ]
  },
  {
   "cell_type": "markdown",
   "metadata": {},
   "source": [
    "## АЗАЗАЗАЗА ЗАГРУЖАЕМ МЕТКИ"
   ]
  },
  {
   "cell_type": "code",
   "execution_count": 99,
   "metadata": {},
   "outputs": [],
   "source": [
    "marks = pd.read_csv(grid_data_dir + 'krsk_places.csv', sep=';')"
   ]
  },
  {
   "cell_type": "code",
   "execution_count": 100,
   "metadata": {},
   "outputs": [
    {
     "data": {
      "text/html": [
       "<div>\n",
       "<style scoped>\n",
       "    .dataframe tbody tr th:only-of-type {\n",
       "        vertical-align: middle;\n",
       "    }\n",
       "\n",
       "    .dataframe tbody tr th {\n",
       "        vertical-align: top;\n",
       "    }\n",
       "\n",
       "    .dataframe thead th {\n",
       "        text-align: right;\n",
       "    }\n",
       "</style>\n",
       "<table border=\"1\" class=\"dataframe\">\n",
       "  <thead>\n",
       "    <tr style=\"text-align: right;\">\n",
       "      <th></th>\n",
       "      <th>Altitude</th>\n",
       "      <th>Longitude</th>\n",
       "      <th>Description</th>\n",
       "      <th>Mark</th>\n",
       "      <th>Number</th>\n",
       "    </tr>\n",
       "  </thead>\n",
       "  <tbody>\n",
       "    <tr>\n",
       "      <th>0</th>\n",
       "      <td>56.049548</td>\n",
       "      <td>92.924574</td>\n",
       "      <td>Гаражи, место сходки</td>\n",
       "      <td>Гаражи</td>\n",
       "      <td>NaN</td>\n",
       "    </tr>\n",
       "    <tr>\n",
       "      <th>1</th>\n",
       "      <td>56.047206</td>\n",
       "      <td>92.934326</td>\n",
       "      <td>Корпус, место где провёл кучу времени</td>\n",
       "      <td>Корпус</td>\n",
       "      <td>NaN</td>\n",
       "    </tr>\n",
       "    <tr>\n",
       "      <th>2</th>\n",
       "      <td>56.054267</td>\n",
       "      <td>92.953200</td>\n",
       "      <td>Старый двор, возле школки</td>\n",
       "      <td>Старый двор</td>\n",
       "      <td>NaN</td>\n",
       "    </tr>\n",
       "    <tr>\n",
       "      <th>3</th>\n",
       "      <td>56.050968</td>\n",
       "      <td>92.991911</td>\n",
       "      <td>Гандоновка))) Полуостров</td>\n",
       "      <td>Полуостров</td>\n",
       "      <td>NaN</td>\n",
       "    </tr>\n",
       "    <tr>\n",
       "      <th>4</th>\n",
       "      <td>56.037159</td>\n",
       "      <td>92.935072</td>\n",
       "      <td>Самый нормальный ТЦ</td>\n",
       "      <td>Июнь</td>\n",
       "      <td>NaN</td>\n",
       "    </tr>\n",
       "    <tr>\n",
       "      <th>5</th>\n",
       "      <td>56.024162</td>\n",
       "      <td>92.918869</td>\n",
       "      <td>Батин остров</td>\n",
       "      <td>Вотчина</td>\n",
       "      <td>NaN</td>\n",
       "    </tr>\n",
       "    <tr>\n",
       "      <th>6</th>\n",
       "      <td>55.967378</td>\n",
       "      <td>92.944103</td>\n",
       "      <td>Батин гараж</td>\n",
       "      <td>Бокс</td>\n",
       "      <td>NaN</td>\n",
       "    </tr>\n",
       "    <tr>\n",
       "      <th>7</th>\n",
       "      <td>55.994009</td>\n",
       "      <td>92.738689</td>\n",
       "      <td>Ееее, место для шашлыка</td>\n",
       "      <td>Шашлык</td>\n",
       "      <td>NaN</td>\n",
       "    </tr>\n",
       "    <tr>\n",
       "      <th>8</th>\n",
       "      <td>56.014016</td>\n",
       "      <td>92.905179</td>\n",
       "      <td>Мимокрокодил всё время</td>\n",
       "      <td>Мост</td>\n",
       "      <td>NaN</td>\n",
       "    </tr>\n",
       "    <tr>\n",
       "      <th>9</th>\n",
       "      <td>56.019969</td>\n",
       "      <td>92.885218</td>\n",
       "      <td>Просто хороший вид</td>\n",
       "      <td>Вид</td>\n",
       "      <td>NaN</td>\n",
       "    </tr>\n",
       "    <tr>\n",
       "      <th>10</th>\n",
       "      <td>55.994141</td>\n",
       "      <td>92.870174</td>\n",
       "      <td>Спортэкс</td>\n",
       "      <td>Спортэкс</td>\n",
       "      <td>NaN</td>\n",
       "    </tr>\n",
       "  </tbody>\n",
       "</table>\n",
       "</div>"
      ],
      "text/plain": [
       "     Altitude  Longitude                            Description         Mark  \\\n",
       "0   56.049548  92.924574                   Гаражи, место сходки       Гаражи   \n",
       "1   56.047206  92.934326  Корпус, место где провёл кучу времени       Корпус   \n",
       "2   56.054267  92.953200              Старый двор, возле школки  Старый двор   \n",
       "3   56.050968  92.991911               Гандоновка))) Полуостров   Полуостров   \n",
       "4   56.037159  92.935072                    Самый нормальный ТЦ         Июнь   \n",
       "5   56.024162  92.918869                           Батин остров      Вотчина   \n",
       "6   55.967378  92.944103                            Батин гараж         Бокс   \n",
       "7   55.994009  92.738689                Ееее, место для шашлыка       Шашлык   \n",
       "8   56.014016  92.905179                 Мимокрокодил всё время         Мост   \n",
       "9   56.019969  92.885218                     Просто хороший вид          Вид   \n",
       "10  55.994141  92.870174                               Спортэкс     Спортэкс   \n",
       "\n",
       "    Number  \n",
       "0      NaN  \n",
       "1      NaN  \n",
       "2      NaN  \n",
       "3      NaN  \n",
       "4      NaN  \n",
       "5      NaN  \n",
       "6      NaN  \n",
       "7      NaN  \n",
       "8      NaN  \n",
       "9      NaN  \n",
       "10     NaN  "
      ]
     },
     "execution_count": 100,
     "metadata": {},
     "output_type": "execute_result"
    }
   ],
   "source": [
    "marks"
   ]
  },
  {
   "cell_type": "code",
   "execution_count": 101,
   "metadata": {},
   "outputs": [
    {
     "data": {
      "text/plain": [
       "[[92.92457399999999, 56.049548],\n",
       " [92.934326, 56.047206],\n",
       " [92.9532, 56.054267],\n",
       " [92.991911, 56.050968000000005],\n",
       " [92.93507199999999, 56.037158999999996],\n",
       " [92.918869, 56.024162],\n",
       " [92.944103, 55.967378000000004],\n",
       " [92.73868900000001, 55.994009],\n",
       " [92.905179, 56.014016000000005],\n",
       " [92.88521800000001, 56.019968999999996],\n",
       " [92.870174, 55.994141000000006]]"
      ]
     },
     "execution_count": 101,
     "metadata": {},
     "output_type": "execute_result"
    }
   ],
   "source": [
    "np.array((marks.loc[:, ['Longitude', 'Altitude']])).tolist()"
   ]
  },
  {
   "cell_type": "code",
   "execution_count": 102,
   "metadata": {},
   "outputs": [],
   "source": [
    "#krsk_places_2d\n",
    "krsk_places_coord_list = np.array((marks.loc[:, ['Longitude', 'Altitude']])).tolist()\n",
    "krsk_places_2d = []\n",
    "krsk_places_2d_points = []\n",
    "for i in range(len(krsk_places_coord_list)):\n",
    "    x, y = pyproj.transform(wgs84, pm, krsk_places_coord_list[i][0], krsk_places_coord_list[i][1]) #трансформируем гео координаты в x и y\n",
    "    krsk_places_2d.append([x,y]) #добавляем\n",
    "    krsk_places_2d_points.append(Point(x,y))"
   ]
  },
  {
   "cell_type": "code",
   "execution_count": 103,
   "metadata": {},
   "outputs": [
    {
     "data": {
      "text/plain": [
       "[[495301.8659530651, 6211596.732960331],\n",
       " [495909.050501277, 6211335.452269471],\n",
       " [497085.27768106293, 6212120.371639541],\n",
       " [499496.1708915833, 6211752.240713233],\n",
       " [495954.4691023623, 6210217.197018899],\n",
       " [494943.19480362744, 6208771.726704452],\n",
       " [496510.8905220434, 6202450.2671210375],\n",
       " [483700.10414736375, 6205443.618554321],\n",
       " [494088.36291300354, 6207643.587949813],\n",
       " [492844.99095088866, 6208308.029521974],\n",
       " [491901.81380414957, 6205435.102469838]]"
      ]
     },
     "execution_count": 103,
     "metadata": {},
     "output_type": "execute_result"
    }
   ],
   "source": [
    "krsk_places_2d"
   ]
  },
  {
   "cell_type": "code",
   "execution_count": 130,
   "metadata": {},
   "outputs": [
    {
     "data": {
      "text/plain": [
       "shapely.geometry.point.Point"
      ]
     },
     "execution_count": 130,
     "metadata": {},
     "output_type": "execute_result"
    }
   ],
   "source": [
    "type(krsk_places_2d_points[4])"
   ]
  },
  {
   "cell_type": "markdown",
   "metadata": {},
   "source": [
    "# Ну, считаем квадратную сетку"
   ]
  },
  {
   "cell_type": "code",
   "execution_count": 105,
   "metadata": {},
   "outputs": [],
   "source": [
    "def calculate_grid(startx, starty, endx, endy, step):\n",
    "    \"\"\"\n",
    "    Тут кароч Батя считает сетку. Вроде как логично: топаем слева направо, снизу вверх на известный шаг.\n",
    "    Возвращает GeoDataFrame, каждая строка - полигон сетки (квадратик) \n",
    "    \"\"\"\n",
    "    #в оригинале здесь идёт куча шляпы,связанной с шестиугольниками, но я обойдусь без этого\n",
    "    \n",
    "    origx = startx #сохраняем оригиналы\n",
    "    origy = starty\n",
    "    \n",
    "    polygons = [] #пустой список для хренения координат квадратов\n",
    "    row = 1 #номер ряда\n",
    "    #counter = 0 #счётчик - нахер не нужный, т.к. нигде не используется\n",
    "    \n",
    "    while starty < endy: # ...то есть всегда???\n",
    "        startx = origx\n",
    "        while startx < endx:\n",
    "            p1x = startx\n",
    "            p1y = starty\n",
    "            p2x = startx + step\n",
    "            p2y = starty\n",
    "            p3x = startx + step\n",
    "            p3y = starty + step\n",
    "            p4x = startx\n",
    "            p4y = starty + step\n",
    "            square_poligon = [ #мутим лист кортежей из координат, замкнутую фигуру. В нашем случае - квадрат\n",
    "                (p1x, p1y),\n",
    "                (p2x, p2y),\n",
    "                (p3x, p3y),\n",
    "                (p4x, p4y),\n",
    "                (p1x, p1y)]\n",
    "            polygons.append(square_poligon)\n",
    "            #counter += 1 # ну так и выброси его нахрен\n",
    "            startx += step\n",
    "        row += 1\n",
    "        starty += step\n",
    "        \n",
    "    '''\n",
    "    вообще, в этом блоке я добавляю линейное преобразование в виде умножения координат на ортогональную матрицу\n",
    "    '''\n",
    "\n",
    "    sth = [Polygon(polygons[i]) for i in range(len(polygons))] #какой то генератор. Polygon принимает на вход лист координат одного полигона и лепит полигон\n",
    "    grid = gpd.GeoDataFrame({'geometry':sth}) #Прикольно, мы заворачиваем в геодатафрейм словарь с единсвтенным ключом\n",
    "    \n",
    "    return grid"
   ]
  },
  {
   "cell_type": "code",
   "execution_count": 106,
   "metadata": {},
   "outputs": [],
   "source": [
    "# для размера сетки нужны стороны прямоугольника\n",
    "minx, miny, maxx, maxy = krsk.bounds #Метод bounds вызывается от класса shapely.geometry.multipolygon.MultiPolygon"
   ]
  },
  {
   "cell_type": "code",
   "execution_count": 107,
   "metadata": {},
   "outputs": [
    {
     "data": {
      "text/plain": [
       "(484403.27941038157, 6196273.140875499, 510514.779133858, 6216041.428746376)"
      ]
     },
     "execution_count": 107,
     "metadata": {},
     "output_type": "execute_result"
    }
   ],
   "source": [
    "krsk.bounds #типа крайние точки полигона"
   ]
  },
  {
   "cell_type": "markdown",
   "metadata": {},
   "source": [
    "#### Поехали, рисуем простую сетку"
   ]
  },
  {
   "cell_type": "code",
   "execution_count": 108,
   "metadata": {},
   "outputs": [
    {
     "data": {
      "text/plain": [
       "<matplotlib.axes._subplots.AxesSubplot at 0x238f966a5f8>"
      ]
     },
     "execution_count": 108,
     "metadata": {},
     "output_type": "execute_result"
    },
    {
     "data": {
      "image/png": "[encoded data removed]",
      "text/plain": [
       "<Figure size 360x360 with 1 Axes>"
      ]
     },
     "metadata": {
      "needs_background": "light"
     },
     "output_type": "display_data"
    }
   ],
   "source": [
    "ordinary_grid = calculate_grid(minx, miny, maxx, maxy, width)\n",
    "ordinary_grid.plot(color = 'white', edgecolor = 'blue', figsize = (5, 5)) #т.к. это геодатафрейм, то его можно нарисовать"
   ]
  },
  {
   "cell_type": "code",
   "execution_count": 109,
   "metadata": {},
   "outputs": [
    {
     "data": {
      "text/html": [
       "<div>\n",
       "<style scoped>\n",
       "    .dataframe tbody tr th:only-of-type {\n",
       "        vertical-align: middle;\n",
       "    }\n",
       "\n",
       "    .dataframe tbody tr th {\n",
       "        vertical-align: top;\n",
       "    }\n",
       "\n",
       "    .dataframe thead th {\n",
       "        text-align: right;\n",
       "    }\n",
       "</style>\n",
       "<table border=\"1\" class=\"dataframe\">\n",
       "  <thead>\n",
       "    <tr style=\"text-align: right;\">\n",
       "      <th></th>\n",
       "      <th>geometry</th>\n",
       "    </tr>\n",
       "  </thead>\n",
       "  <tbody>\n",
       "    <tr>\n",
       "      <th>0</th>\n",
       "      <td>POLYGON ((484403.2794103816 6196273.140875499,...</td>\n",
       "    </tr>\n",
       "    <tr>\n",
       "      <th>1</th>\n",
       "      <td>POLYGON ((484903.2794103816 6196273.140875499,...</td>\n",
       "    </tr>\n",
       "    <tr>\n",
       "      <th>2</th>\n",
       "      <td>POLYGON ((485403.2794103816 6196273.140875499,...</td>\n",
       "    </tr>\n",
       "    <tr>\n",
       "      <th>3</th>\n",
       "      <td>POLYGON ((485903.2794103816 6196273.140875499,...</td>\n",
       "    </tr>\n",
       "    <tr>\n",
       "      <th>4</th>\n",
       "      <td>POLYGON ((486403.2794103816 6196273.140875499,...</td>\n",
       "    </tr>\n",
       "    <tr>\n",
       "      <th>5</th>\n",
       "      <td>POLYGON ((486903.2794103816 6196273.140875499,...</td>\n",
       "    </tr>\n",
       "  </tbody>\n",
       "</table>\n",
       "</div>"
      ],
      "text/plain": [
       "                                            geometry\n",
       "0  POLYGON ((484403.2794103816 6196273.140875499,...\n",
       "1  POLYGON ((484903.2794103816 6196273.140875499,...\n",
       "2  POLYGON ((485403.2794103816 6196273.140875499,...\n",
       "3  POLYGON ((485903.2794103816 6196273.140875499,...\n",
       "4  POLYGON ((486403.2794103816 6196273.140875499,...\n",
       "5  POLYGON ((486903.2794103816 6196273.140875499,..."
      ]
     },
     "execution_count": 109,
     "metadata": {},
     "output_type": "execute_result"
    }
   ],
   "source": [
    "#посмотри, что получилось\n",
    "ordinary_grid.head(6)"
   ]
  },
  {
   "cell_type": "code",
   "execution_count": 110,
   "metadata": {},
   "outputs": [
    {
     "data": {
      "text/plain": [
       "geometry    POLYGON ((484403.2794103816 6196273.140875499,...\n",
       "Name: 0, dtype: object"
      ]
     },
     "execution_count": 110,
     "metadata": {},
     "output_type": "execute_result"
    }
   ],
   "source": [
    "ordinary_grid.loc[0]"
   ]
  },
  {
   "cell_type": "markdown",
   "metadata": {},
   "source": [
    "#### Дальше самое веселое - сопоставляем исходный полигон с сеткой. На выходе сетка в форме города"
   ]
  },
  {
   "cell_type": "code",
   "execution_count": 111,
   "metadata": {},
   "outputs": [
    {
     "data": {
      "text/plain": [
       "<matplotlib.axes._subplots.AxesSubplot at 0x238f903df60>"
      ]
     },
     "execution_count": 111,
     "metadata": {},
     "output_type": "execute_result"
    },
    {
     "data": {
      "image/png": "[encoded data removed]",
      "text/plain": [
       "<Figure size 360x360 with 1 Axes>"
      ]
     },
     "metadata": {
      "needs_background": "light"
     },
     "output_type": "display_data"
    }
   ],
   "source": [
    "intersect_square = [] # список квадратов, которые получились в результате пересечения\n",
    "for i in range(len(ordinary_grid)):\n",
    "    #если пересечение границы города и сетки непустое, то включаем всю соту полностью - чегооооо????????\n",
    "    if krsk.intersection(ordinary_grid.iloc[i][0]).area > 0.0: #метод от shapely.geometry.multipolygon.MultiPolygon\n",
    "        intersect_square.append(ordinary_grid.iloc[i][0]) #ну то есть если непустой, то зааппедить\n",
    "        \n",
    "grid_intersect = gpd.GeoDataFrame({'geometry':intersect_square}) #снова формируем геодатафрейм\n",
    "grid_intersect.plot(color='white', edgecolor='red', figsize=(5,5))\n",
    "        "
   ]
  },
  {
   "cell_type": "code",
   "execution_count": 131,
   "metadata": {},
   "outputs": [
    {
     "data": {
      "text/plain": [
       "shapely.geometry.polygon.Polygon"
      ]
     },
     "execution_count": 131,
     "metadata": {},
     "output_type": "execute_result"
    }
   ],
   "source": [
    "#grid_intersect.head()\n",
    "#grid_intersect.iloc[1]\n",
    "type(intersect_square[3])"
   ]
  },
  {
   "cell_type": "markdown",
   "metadata": {},
   "source": [
    "#### По приколу определим число квадратов"
   ]
  },
  {
   "cell_type": "code",
   "execution_count": 113,
   "metadata": {},
   "outputs": [
    {
     "name": "stdout",
     "output_type": "stream",
     "text": [
      "1358\n",
      "1358\n"
     ]
    }
   ],
   "source": [
    "print(len(grid_intersect[grid_intersect['geometry'].notnull()]))\n",
    "print(len(grid_intersect))"
   ]
  },
  {
   "cell_type": "markdown",
   "metadata": {},
   "source": [
    "## Ну шо, теперь нужно наложить метки на сетку города"
   ]
  },
  {
   "cell_type": "code",
   "execution_count": 134,
   "metadata": {},
   "outputs": [
    {
     "data": {
      "text/plain": [
       "<matplotlib.axes._subplots.AxesSubplot at 0x238fa2839b0>"
      ]
     },
     "execution_count": 134,
     "metadata": {},
     "output_type": "execute_result"
    },
    {
     "data": {
      "image/png": "[encoded data removed]",
      "text/plain": [
       "<Figure size 360x360 with 1 Axes>"
      ]
     },
     "metadata": {
      "needs_background": "light"
     },
     "output_type": "display_data"
    }
   ],
   "source": [
    "#здесь явно потребуется цикл\n",
    "places_intersect = []\n",
    "#для начала самый тупой алгоритм\n",
    "for i in range(len(krsk_places_2d_points)):\n",
    "    for j in range(len(grid_intersect)):\n",
    "        if krsk_places_2d_points[i].within(intersect_square[j]): #здесь сопоставляются объекты библиотеки shapely\n",
    "            places_intersect.append(grid_intersect.iloc[j][0]) #лучше заменить на множества, т.к. нам нужны уникальные\n",
    "familiar_areas = gpd.GeoDataFrame({'geometry':places_intersect}) #снова формируем геодатафрейм\n",
    "familiar_areas.plot(color='white', edgecolor='red', figsize=(5,5))"
   ]
  },
  {
   "cell_type": "markdown",
   "metadata": {},
   "source": [
    "### И самое последнее - жопа - конвертация нашего 2d в 3d"
   ]
  },
  {
   "cell_type": "code",
   "execution_count": 136,
   "metadata": {},
   "outputs": [],
   "source": [
    "#сперва напишем трансформирующую функцию, которая возвращает список\n",
    "def transform_to_3d (grid):\n",
    "    \"\"\"\n",
    "    grid - в данном случае полигоны сетки в виде GeoDataFrame\n",
    "    proj3d_pols - список спроецированных в 3D полигонов сетки\n",
    "    \"\"\"\n",
    "    proj3d_pols = []\n",
    "    for i in range(len(grid)):\n",
    "        try:\n",
    "            xp, yp = grid.iloc[i][0].exterior.coords.xy #это ещё что такое?????????\n",
    "            xp, yp = list(xp), list(yp) #трансформация верхних значений... в листы?\n",
    "            x, y = pyproj.transform(pm, wgs84, xp, yp) #собсна вот наша трансформация из 2d в 3d... Уже прямая??... Дальше всё...\n",
    "            proj3d_pols.append(Polygon([(x[j],y[j]) for j in range(len(x))]))\n",
    "        except AttributeError: \n",
    "            try:\n",
    "                for k in range(len(grid.iloc[i][0])):\n",
    "                    xp, yp = grid.iloc[i][0][k].exterior.coords.xy\n",
    "                    xp, yp = list(xp), list(yp)\n",
    "                    x, y = pyproj.transform(pm, wgs84, xp, yp)\n",
    "                    proj3d_pols.append(Polygon([(x[j],y[j]) for j in range(len(x))]))\n",
    "            except AttributeError:\n",
    "                continue\n",
    "    return proj3d_pols"
   ]
  },
  {
   "cell_type": "code",
   "execution_count": 137,
   "metadata": {},
   "outputs": [
    {
     "data": {
      "text/plain": [
       "<matplotlib.axes._subplots.AxesSubplot at 0x238fa232278>"
      ]
     },
     "execution_count": 137,
     "metadata": {},
     "output_type": "execute_result"
    },
    {
     "data": {
      "image/png": "[encoded data removed]",
      "text/plain": [
       "<Figure size 504x504 with 1 Axes>"
      ]
     },
     "metadata": {
      "needs_background": "light"
     },
     "output_type": "display_data"
    }
   ],
   "source": [
    "#ну и финал\n",
    "grid_proj3d = gpd.GeoDataFrame({'geometry':transform_to_3d(familiar_areas)})\n",
    "grid_proj3d.plot(color='white', edgecolor='blue', figsize = (7,7))"
   ]
  },
  {
   "cell_type": "markdown",
   "metadata": {},
   "source": [
    "### Вот и всё! Экспортируем и наслаждаемся\n"
   ]
  },
  {
   "cell_type": "code",
   "execution_count": 138,
   "metadata": {},
   "outputs": [],
   "source": [
    "with open(grid_data_dir + 'Krsk_hustle_places.json', 'w') as k:\n",
    "    k.write(grid_proj3d.to_json())"
   ]
  },
  {
   "cell_type": "code",
   "execution_count": null,
   "metadata": {},
   "outputs": [],
   "source": []
  }
 ],
 "metadata": {
  "kernelspec": {
   "display_name": "Python 3",
   "language": "python",
   "name": "python3"
  },
  "language_info": {
   "codemirror_mode": {
    "name": "ipython",
    "version": 3
   },
   "file_extension": ".py",
   "mimetype": "text/x-python",
   "name": "python",
   "nbconvert_exporter": "python",
   "pygments_lexer": "ipython3",
   "version": "3.7.1"
  }
 },
 "nbformat": 4,
 "nbformat_minor": 2
}
